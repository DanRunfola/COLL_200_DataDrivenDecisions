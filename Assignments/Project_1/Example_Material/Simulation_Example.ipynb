{
 "cells": [
  {
   "cell_type": "code",
   "execution_count": 6,
   "metadata": {
    "collapsed": true
   },
   "outputs": [],
   "source": [
    "import matplotlib.pyplot as plt\n",
    "import numpy as np\n",
    "import csv\n",
    "import pandas as pd\n",
    "import seaborn as sns\n",
    "%matplotlib inline"
   ]
  },
  {
   "cell_type": "code",
   "execution_count": 3,
   "metadata": {
    "collapsed": true
   },
   "outputs": [],
   "source": [
    "#Example Case:\n",
    "#You have 25 students in a classroom, and assign a project.\n",
    "#The project has 2 major components, and each student gets a grade\n",
    "#for each component.\n",
    "#Estimate the likelihood that a student will receive a A on both components.\n",
    "#For this example, an A is a 90% or higher.\n",
    "\n",
    "#Step 1: Describe what you're measuring.\n",
    "#In this case, we are examining a binary outcome: either students receive an A,\n",
    "#or they don't. \n",
    "\n",
    "\n"
   ]
  },
  {
   "cell_type": "code",
   "execution_count": 56,
   "metadata": {},
   "outputs": [
    {
     "data": {
      "text/plain": [
       "<matplotlib.axes._subplots.AxesSubplot at 0x2b5a9c3d0588>"
      ]
     },
     "execution_count": 56,
     "metadata": {},
     "output_type": "execute_result"
    },
    {
     "name": "stderr",
     "output_type": "stream",
     "text": [
      "/usr/local/anaconda3-4.4.0/lib/python3.6/site-packages/matplotlib/font_manager.py:1297: UserWarning: findfont: Font family ['sans-serif'] not found. Falling back to DejaVu Sans\n",
      "  (prop.get_family(), self.defaultFamily[fontext]))\n"
     ]
    },
    {
     "data": {
      "image/png": "[encoded data removed]",
      "text/plain": [
       "<matplotlib.figure.Figure at 0x2b5a9c392828>"
      ]
     },
     "metadata": {},
     "output_type": "display_data"
    }
   ],
   "source": [
    "#Step 2: Use your intuition or past experience to identify the likelihood\n",
    "#of an A occuring on each component.  For example, in past assignments 20% \n",
    "#of students received an A.\n",
    "\n",
    "#Step 3: Based on step 2, select a distribution that approximates your intuition \n",
    "#or findings.\n",
    "beta_ex = np.random.beta(4,2,size=10000)\n",
    "sns.distplot(beta_ex)"
   ]
  },
  {
   "cell_type": "code",
   "execution_count": 57,
   "metadata": {},
   "outputs": [
    {
     "name": "stdout",
     "output_type": "stream",
     "text": [
      "0\n"
     ]
    }
   ],
   "source": [
    "#Step 4: Construct a model based on your distribution(s) that results in\n",
    "#the binary outcome you identified in step 1.\n",
    "score = (np.random.beta(4,2)>0.90) + (np.random.beta(4,2)>0.90)\n",
    "print(score)"
   ]
  },
  {
   "cell_type": "code",
   "execution_count": 66,
   "metadata": {
    "collapsed": true
   },
   "outputs": [],
   "source": [
    "#5 Now, simulate your model and save your results.\n",
    "results_df = pd.DataFrame()\n",
    "number_of_sims = 10000\n",
    "\n",
    "count =  0\n",
    "\n",
    "while count < number_of_sims:\n",
    "    score = (np.random.beta(4,2)>0.90) + (np.random.beta(4,2)>0.90)\n",
    "    if(score == 2):\n",
    "        both_a = 1\n",
    "    else:\n",
    "        both_a = 0\n",
    "    results_df = results_df.append({\"Both_A\":both_a}, ignore_index=True)\n",
    "    count = count + 1"
   ]
  },
  {
   "cell_type": "code",
   "execution_count": 67,
   "metadata": {},
   "outputs": [
    {
     "name": "stdout",
     "output_type": "stream",
     "text": [
      "0.007\n"
     ]
    },
    {
     "name": "stderr",
     "output_type": "stream",
     "text": [
      "/usr/local/anaconda3-4.4.0/lib/python3.6/site-packages/matplotlib/font_manager.py:1297: UserWarning: findfont: Font family ['sans-serif'] not found. Falling back to DejaVu Sans\n",
      "  (prop.get_family(), self.defaultFamily[fontext]))\n"
     ]
    },
    {
     "data": {
      "image/png": "[encoded data removed]",
      "text/plain": [
       "<matplotlib.figure.Figure at 0x2b5a9c64f048>"
      ]
     },
     "metadata": {},
     "output_type": "display_data"
    }
   ],
   "source": [
    "#6 And, examine your results:\n",
    "sns.distplot(results_df[\"Both_A\"])\n",
    "print(results_df[\"Both_A\"].mean())"
   ]
  },
  {
   "cell_type": "code",
   "execution_count": 83,
   "metadata": {},
   "outputs": [
    {
     "name": "stdout",
     "output_type": "stream",
     "text": [
      "0.1741\n"
     ]
    },
    {
     "name": "stderr",
     "output_type": "stream",
     "text": [
      "/usr/local/anaconda3-4.4.0/lib/python3.6/site-packages/matplotlib/font_manager.py:1297: UserWarning: findfont: Font family ['sans-serif'] not found. Falling back to DejaVu Sans\n",
      "  (prop.get_family(), self.defaultFamily[fontext]))\n"
     ]
    },
    {
     "data": {
      "image/png": "[encoded data removed]",
      "text/plain": [
       "<matplotlib.figure.Figure at 0x2b5a9c06eef0>"
      ]
     },
     "metadata": {},
     "output_type": "display_data"
    }
   ],
   "source": [
    "#finally, you can re-run step 5 and 6 multiple times.\n",
    "#If you have enough simulations, the solution you find \n",
    "#should not change much.  I.e., in this case about .07%\n",
    "#of the time a student would receive an A on both components.\n",
    "\n",
    "#Why is this so low compared to a more realistic simulation?\n",
    "# - Students who do well on one component will likely do well\n",
    "# on another.  We have no \"autocorrelation\" in our model - \n",
    "# i.e., both components are chosen entirely randomly.\n",
    "\n",
    "# - It is possible a students average grade would be an A,\n",
    "# even if both components are not.  \n",
    "\n",
    "#Here is what a more complex model (though still simple) might look like incorporating\n",
    "#those two ideas:\n",
    "\n",
    "results_df = pd.DataFrame()\n",
    "number_of_sims = 10000\n",
    "\n",
    "count =  0\n",
    "\n",
    "while count < number_of_sims:\n",
    "    score_1 = np.random.beta(4,2)\n",
    "    score_2 = ((1 - score_1) * np.random.beta(4,2)) + score_1\n",
    "    a_grade = (score_1 + score_2) \n",
    "    if(a_grade > 1.8):\n",
    "        received_a = 1\n",
    "    else:\n",
    "        received_a = 0\n",
    "    \n",
    "    results_df = results_df.append({\"received_a\":received_a}, ignore_index=True)\n",
    "    count = count + 1\n",
    "    \n",
    "sns.distplot(results_df[\"received_a\"])\n",
    "print(results_df[\"received_a\"].mean())\n",
    "\n",
    "#Under these assumptions, around 17% of the class would receive an A,\n",
    "#even though only .07% would receive an A on both components."
   ]
  },
  {
   "cell_type": "code",
   "execution_count": null,
   "metadata": {
    "collapsed": true
   },
   "outputs": [],
   "source": []
  }
 ],
 "metadata": {
  "kernelspec": {
   "display_name": "Python 3",
   "language": "python",
   "name": "python3"
  },
  "language_info": {
   "codemirror_mode": {
    "name": "ipython",
    "version": 3
   },
   "file_extension": ".py",
   "mimetype": "text/x-python",
   "name": "python",
   "nbconvert_exporter": "python",
   "pygments_lexer": "ipython3",
   "version": "3.6.1"
  }
 },
 "nbformat": 4,
 "nbformat_minor": 2
}
